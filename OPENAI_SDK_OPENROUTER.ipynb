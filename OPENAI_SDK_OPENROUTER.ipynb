{
  "nbformat": 4,
  "nbformat_minor": 0,
  "metadata": {
    "colab": {
      "provenance": [],
      "include_colab_link": true
    },
    "kernelspec": {
      "name": "python3",
      "display_name": "Python 3"
    },
    "language_info": {
      "name": "python"
    }
  },
  "cells": [
    {
      "cell_type": "markdown",
      "metadata": {
        "id": "view-in-github",
        "colab_type": "text"
      },
      "source": [
        "<a href=\"https://colab.research.google.com/github/Rahat048/Agentic_AI_projects/blob/main/OPENAI_SDK_OPENROUTER.ipynb\" target=\"_parent\"><img src=\"https://colab.research.google.com/assets/colab-badge.svg\" alt=\"Open In Colab\"/></a>"
      ]
    },
    {
      "cell_type": "markdown",
      "source": [
        "# Use OpenRouter With OpenAI Agents SDK"
      ],
      "metadata": {
        "id": "o92NPvIPpmCv"
      }
    },
    {
      "cell_type": "code",
      "execution_count": 1,
      "metadata": {
        "id": "7teAe2rONlBe",
        "colab": {
          "base_uri": "https://localhost:8080/"
        },
        "outputId": "da86e7df-f290-412b-f981-64012f8c4a0c"
      },
      "outputs": [
        {
          "output_type": "stream",
          "name": "stdout",
          "text": [
            "\u001b[?25l   \u001b[90m━━━━━━━━━━━━━━━━━━━━━━━━━━━━━━━━━━━━━━━━\u001b[0m \u001b[32m0.0/108.3 kB\u001b[0m \u001b[31m?\u001b[0m eta \u001b[36m-:--:--\u001b[0m\r\u001b[2K   \u001b[90m━━━━━━━━━━━━━━━━━━━━━━━━━━━━━━━━━━━━━━━━\u001b[0m \u001b[32m108.3/108.3 kB\u001b[0m \u001b[31m4.8 MB/s\u001b[0m eta \u001b[36m0:00:00\u001b[0m\n",
            "\u001b[?25h\u001b[?25l   \u001b[90m━━━━━━━━━━━━━━━━━━━━━━━━━━━━━━━━━━━━━━━━\u001b[0m \u001b[32m0.0/129.2 kB\u001b[0m \u001b[31m?\u001b[0m eta \u001b[36m-:--:--\u001b[0m\r\u001b[2K   \u001b[90m━━━━━━━━━━━━━━━━━━━━━━━━━━━━━━━━━━━━━━━━\u001b[0m \u001b[32m129.2/129.2 kB\u001b[0m \u001b[31m10.2 MB/s\u001b[0m eta \u001b[36m0:00:00\u001b[0m\n",
            "\u001b[2K   \u001b[90m━━━━━━━━━━━━━━━━━━━━━━━━━━━━━━━━━━━━━━━━\u001b[0m \u001b[32m76.1/76.1 kB\u001b[0m \u001b[31m5.0 MB/s\u001b[0m eta \u001b[36m0:00:00\u001b[0m\n",
            "\u001b[2K   \u001b[90m━━━━━━━━━━━━━━━━━━━━━━━━━━━━━━━━━━━━━━━━\u001b[0m \u001b[32m44.4/44.4 kB\u001b[0m \u001b[31m2.5 MB/s\u001b[0m eta \u001b[36m0:00:00\u001b[0m\n",
            "\u001b[2K   \u001b[90m━━━━━━━━━━━━━━━━━━━━━━━━━━━━━━━━━━━━━━━━\u001b[0m \u001b[32m72.0/72.0 kB\u001b[0m \u001b[31m4.9 MB/s\u001b[0m eta \u001b[36m0:00:00\u001b[0m\n",
            "\u001b[2K   \u001b[90m━━━━━━━━━━━━━━━━━━━━━━━━━━━━━━━━━━━━━━━━\u001b[0m \u001b[32m62.5/62.5 kB\u001b[0m \u001b[31m4.3 MB/s\u001b[0m eta \u001b[36m0:00:00\u001b[0m\n",
            "\u001b[?25h"
          ]
        }
      ],
      "source": [
        "!pip install -Uq openai-agents"
      ]
    },
    {
      "cell_type": "code",
      "source": [
        "import nest_asyncio\n",
        "nest_asyncio.apply()"
      ],
      "metadata": {
        "id": "z3_PWpn4OIyT"
      },
      "execution_count": 2,
      "outputs": []
    },
    {
      "cell_type": "markdown",
      "source": [
        "## Provider Config"
      ],
      "metadata": {
        "id": "ZTOibVJuN_pi"
      }
    },
    {
      "cell_type": "code",
      "source": [
        "from google.colab import userdata\n",
        "\n",
        "OPENROUTER_API_KEY = userdata.get(\"OR_key\")"
      ],
      "metadata": {
        "id": "zvmgohqY0-Wm"
      },
      "execution_count": 3,
      "outputs": []
    },
    {
      "cell_type": "code",
      "source": [
        "#Reference: https://openrouter.ai/docs/quickstart\n",
        "\n",
        "BASE_URL = \"https://openrouter.ai/api/v1\"\n",
        "MODEL = \"google/gemini-2.0-flash-exp:free\"\n",
        "\n",
        "# Some other free models on 26th March:\n",
        "# https://openrouter.ai/deepseek/deepseek-chat-v3-0324:free\n",
        "# https://openrouter.ai/google/gemini-2.5-pro-exp-03-25:free"
      ],
      "metadata": {
        "id": "DeTqCZKGlVk_"
      },
      "execution_count": 4,
      "outputs": []
    },
    {
      "cell_type": "markdown",
      "source": [
        "## 1. Using the OpenRouter API directly"
      ],
      "metadata": {
        "id": "IyWF4XNPtI7f"
      }
    },
    {
      "cell_type": "code",
      "source": [
        "import requests\n",
        "import json\n",
        "\n",
        "response = requests.post(\n",
        "  url=f\"https://openrouter.ai/api/v1/chat/completions\",\n",
        "  headers={\n",
        "    \"Authorization\": f\"Bearer {OPENROUTER_API_KEY}\",\n",
        "  },\n",
        "  data=json.dumps({\n",
        "    \"model\": MODEL,\n",
        "    \"messages\": [\n",
        "      {\n",
        "        \"role\": \"user\",\n",
        "        \"content\": \"write a poem of 5 lines on rain in punjabi\"\n",
        "      }\n",
        "    ]\n",
        "  })\n",
        ")\n",
        "\n",
        "print(response.json())"
      ],
      "metadata": {
        "colab": {
          "base_uri": "https://localhost:8080/"
        },
        "id": "e0if6eGutM9h",
        "outputId": "76cec144-055b-4c16-cb8e-d8e338cb2449"
      },
      "execution_count": 5,
      "outputs": [
        {
          "output_type": "stream",
          "name": "stdout",
          "text": [
            "{'id': 'gen-1745263761-VEV8MRQfS6s91h6lGHmt', 'provider': 'Google AI Studio', 'model': 'google/gemini-2.0-flash-exp', 'object': 'chat.completion', 'created': 1745263761, 'choices': [{'logprobs': None, 'finish_reason': 'stop', 'native_finish_reason': 'STOP', 'index': 0, 'message': {'role': 'assistant', 'content': \"Alright, here's a short 5-line poem about rain in Punjabi:\\n\\nਕਾਲੀ ਬਦਲੀ ਛਾ ਗਈ ਅਸਮਾਨ ਤੇ,\\n(Kaali badli chhaa gayi asmaan te,)\\nThe dark cloud has covered the sky,\\n\\nਬੂੰਦਾਂ ਦੀ ਪਈ ਫੁਹਾਰ।\\n(Boondan di payi fuhar.)\\nA drizzle of drops has started to fall.\\n\\nਮਿੱਟੀ ਦੀ ਖੁਸ਼ਬੋ ਆਈ,\\n(Mitti di khushboo aayi,)\\nThe smell of the earth has arrived,\\n\\nਮਨ ਵਿੱਚ ਖੁਸ਼ੀ ਲੈ ਆਈ।\\n(Man vich khushi lai aayi.)\\nBringing happiness to the heart.\\n\\nਬਰਸਾਤ ਰੁੱਤ ਪਿਆਰੀ।\\n(Barsaat rutt pyaari)\\nThe rainy season is lovely.\\n\", 'refusal': None, 'reasoning': None}}], 'usage': {'prompt_tokens': 12, 'completion_tokens': 190, 'total_tokens': 202}}\n"
          ]
        }
      ]
    },
    {
      "cell_type": "code",
      "source": [],
      "metadata": {
        "id": "cW1Xp2BHpVho"
      },
      "execution_count": null,
      "outputs": []
    },
    {
      "cell_type": "code",
      "source": [
        "data = response.json()\n",
        "print(data['choices'][0]['message']['content'])"
      ],
      "metadata": {
        "colab": {
          "base_uri": "https://localhost:8080/"
        },
        "id": "mv3B6_oRto5S",
        "outputId": "509b5bd6-d33d-4920-b180-6e7a2103e81e"
      },
      "execution_count": 6,
      "outputs": [
        {
          "output_type": "stream",
          "name": "stdout",
          "text": [
            "Alright, here's a short 5-line poem about rain in Punjabi:\n",
            "\n",
            "ਕਾਲੀ ਬਦਲੀ ਛਾ ਗਈ ਅਸਮਾਨ ਤੇ,\n",
            "(Kaali badli chhaa gayi asmaan te,)\n",
            "The dark cloud has covered the sky,\n",
            "\n",
            "ਬੂੰਦਾਂ ਦੀ ਪਈ ਫੁਹਾਰ।\n",
            "(Boondan di payi fuhar.)\n",
            "A drizzle of drops has started to fall.\n",
            "\n",
            "ਮਿੱਟੀ ਦੀ ਖੁਸ਼ਬੋ ਆਈ,\n",
            "(Mitti di khushboo aayi,)\n",
            "The smell of the earth has arrived,\n",
            "\n",
            "ਮਨ ਵਿੱਚ ਖੁਸ਼ੀ ਲੈ ਆਈ।\n",
            "(Man vich khushi lai aayi.)\n",
            "Bringing happiness to the heart.\n",
            "\n",
            "ਬਰਸਾਤ ਰੁੱਤ ਪਿਆਰੀ।\n",
            "(Barsaat rutt pyaari)\n",
            "The rainy season is lovely.\n",
            "\n"
          ]
        }
      ]
    },
    {
      "cell_type": "markdown",
      "source": [
        "## 2. Using OpenAI Agents SDK"
      ],
      "metadata": {
        "id": "E_jESzWAsu91"
      }
    },
    {
      "cell_type": "code",
      "source": [
        "import asyncio\n",
        "from openai import AsyncOpenAI # chat completions\n",
        "from agents import Agent, OpenAIChatCompletionsModel, Runner, set_tracing_disabled\n",
        "\n",
        "set_tracing_disabled(disabled=True) # Open AI Tracing == Disable\n",
        "\n",
        "client = AsyncOpenAI(\n",
        "    api_key=OPENROUTER_API_KEY,\n",
        "    base_url=BASE_URL\n",
        ")\n",
        "\n",
        "\n",
        "async def main():\n",
        "    # This agent will use the custom LLM provider\n",
        "    agent = Agent(\n",
        "        name=\"LahoreTA\",\n",
        "        instructions=\"You only respond in english.\",\n",
        "        model=OpenAIChatCompletionsModel(model=MODEL, openai_client=client),\n",
        "    )\n",
        "\n",
        "    result = await Runner.run(\n",
        "        agent, # starting agent\n",
        "        \"Tell me about pakistan.\", # request\n",
        "    )\n",
        "    print(result.final_output)\n",
        "\n",
        "\n",
        "asyncio.run(main())"
      ],
      "metadata": {
        "colab": {
          "base_uri": "https://localhost:8080/"
        },
        "id": "xrJVAu7cwe5u",
        "outputId": "79e271f1-6e6d-4cb5-cb3e-9a09204fcd06"
      },
      "execution_count": 14,
      "outputs": [
        {
          "output_type": "stream",
          "name": "stdout",
          "text": [
            "Okay, here's a rundown of Pakistan, covering key aspects:\n",
            "\n",
            "**Overview:**\n",
            "\n",
            "*   **Official Name:** Islamic Republic of Pakistan\n",
            "*   **Location:** South Asia, bordering Iran, Afghanistan, China, and India.\n",
            "*   **Capital:** Islamabad\n",
            "*   **Largest City:** Karachi\n",
            "*   **Population:** Estimated at over 240 million (one of the most populous countries in the world).\n",
            "*   **Official Languages:** Urdu (National Language) and English (Official Language)\n",
            "*   **Currency:** Pakistani Rupee (PKR)\n",
            "*   **Government:** Parliamentary Republic\n",
            "\n",
            "**History:**\n",
            "\n",
            "*   **Ancient History:** The Indus Valley Civilization, one of the earliest urban societies, flourished in the region that is now Pakistan.\n",
            "*   **Islamic Influence:** The arrival of Muslim rulers in the medieval period brought significant cultural and religious changes.\n",
            "*   **British Colonial Era:** The region became part of British India.\n",
            "*   **Independence:** Pakistan was created in 1947 as a separate nation for Muslims during the partition of British India. This partition was accompanied by widespread violence and displacement.\n",
            "*   **Early Years:** The early decades were marked by political instability, wars with India, and internal conflicts.\n",
            "*   **Modern Pakistan:** Pakistan has faced challenges including political instability, economic difficulties, and security threats. It has also made progress in areas like education and infrastructure.\n",
            "\n",
            "**Geography & Climate:**\n",
            "\n",
            "*   **Diverse Landscapes:** Pakistan has a varied geography, ranging from the high mountains of the Himalayas, Karakoram, and Hindu Kush ranges in the north, to the fertile Indus River plain in the center and east, and the arid Balochistan plateau in the southwest. It also has a coastline along the Arabian Sea.\n",
            "*   **Major Rivers:** The Indus River is the country's lifeline. Other important rivers include the Jhelum, Chenab, Ravi, and Sutlej.\n",
            "*   **Climate:** The climate ranges from arid to subtropical. There are four distinct seasons: a cool, dry winter (December to February); a hot, dry spring (March to May); the summer monsoon season (June to September); and a retreating monsoon period of October and November.\n",
            "\n",
            "**People & Culture:**\n",
            "\n",
            "*   **Ethnic Groups:** Pakistan is ethnically diverse. Major ethnic groups include Punjabis, Pashtuns (Pathans), Sindhis, Balochis, and Muhajirs (Urdu-speaking migrants from India after partition).\n",
            "*   **Religion:** Islam is the state religion, and the vast majority of Pakistanis are Muslim (mostly Sunni, with a significant Shia minority). There are also small populations of Christians, Hindus, and other religious minorities.\n",
            "*   **Languages:** Urdu is the national language and a symbol of national unity, but many regional languages are spoken, including Punjabi, Pashto, Sindhi, and Balochi.\n",
            "*   **Culture:** Pakistani culture is a blend of indigenous traditions, Persian, Central Asian, and Islamic influences. It is known for its hospitality, family values, and artistic traditions.\n",
            "*   **Arts & Entertainment:** Pakistan has a rich tradition of music, dance, literature, and visual arts. Qawwali (Sufi devotional music) is particularly famous. The Pakistani film industry (Lollywood) produces films in Urdu and other languages.\n",
            "\n",
            "**Economy:**\n",
            "\n",
            "*   **Key Sectors:** Agriculture, textiles, manufacturing, and services.\n",
            "*   **Challenges:** Pakistan faces economic challenges including poverty, unemployment, inflation, and a large national debt.\n",
            "*   **Recent Developments:** The China-Pakistan Economic Corridor (CPEC) is a major infrastructure project that is expected to boost Pakistan's economy.\n",
            "\n",
            "**Politics & Government:**\n",
            "\n",
            "*   **Political System:** Parliamentary republic with a President as head of state and a Prime Minister as head of government.\n",
            "*   **Political Parties:** Several major political parties exist, often representing different regions or ideologies.\n",
            "*   **Challenges:** Pakistan has a history of political instability, including military coups and periods of civilian rule. Corruption and governance issues are also significant challenges.\n",
            "\n",
            "**Challenges & Issues:**\n",
            "\n",
            "*   **Security:** Pakistan faces internal and external security threats, including terrorism and regional conflicts.\n",
            "*   **Economy:** Economic instability, poverty, and unemployment are major concerns.\n",
            "*   **Governance:** Corruption, lack of transparency, and weak institutions.\n",
            "*   **Education:** Low literacy rates and unequal access to education.\n",
            "*   **Social Issues:** Gender inequality, human rights concerns, and religious extremism.\n",
            "*   **Climate Change:** Pakistan is highly vulnerable to the impacts of climate change, including droughts, floods, and heatwaves.\n",
            "\n",
            "**Tourism:**\n",
            "\n",
            "*   **Potential:** Pakistan has significant tourism potential, with its stunning mountain scenery, historical sites, and vibrant culture.\n",
            "*   **Popular Destinations:** Northern areas (mountains), Lahore (historical city), Karachi (coastal city), Mohenjo-daro (ancient Indus Valley Civilization site).\n",
            "*   **Security Concerns:** Security concerns have historically limited tourism, but efforts are being made to promote tourism in safer areas.\n",
            "\n",
            "In short, Pakistan is a complex and diverse country with a rich history, a vibrant culture, and significant challenges. It plays an important role in regional and global affairs.\n"
          ]
        }
      ]
    }
  ]
}